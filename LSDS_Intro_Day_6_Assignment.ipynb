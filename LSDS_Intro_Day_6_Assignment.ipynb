{
  "nbformat": 4,
  "nbformat_minor": 0,
  "metadata": {
    "colab": {
      "name": "LSDS Intro Day 6 Assignment.ipynb",
      "version": "0.3.2",
      "provenance": [],
      "include_colab_link": true
    },
    "kernelspec": {
      "name": "python3",
      "display_name": "Python 3"
    }
  },
  "cells": [
    {
      "cell_type": "markdown",
      "metadata": {
        "id": "view-in-github",
        "colab_type": "text"
      },
      "source": [
        "[View in Colaboratory](https://colab.research.google.com/github/ShreyasJothish/ML-Precourse/blob/master/LSDS_Intro_Day_6_Assignment.ipynb)"
      ]
    },
    {
      "metadata": {
        "id": "ZBEbTcJDzUmY",
        "colab_type": "text"
      },
      "cell_type": "markdown",
      "source": [
        "#Linear Algebra Applications Assignment\n",
        "\n"
      ]
    },
    {
      "metadata": {
        "id": "eL5Phm9uvdMN",
        "colab_type": "text"
      },
      "cell_type": "markdown",
      "source": [
        "\n",
        "\n",
        "### Your data:\n",
        "\n",
        "**chirps_per_sec** = chirps/sec for the striped ground cricket\n",
        "\n",
        "**temperature** = temperature in degrees Fahrenheit\n",
        "\n",
        "Reference: The Song of Insects by Dr.G.W. Pierce, Harvard College Press"
      ]
    },
    {
      "metadata": {
        "id": "5gk0TM_HBZQH",
        "colab_type": "code",
        "colab": {}
      },
      "cell_type": "code",
      "source": [
        ""
      ],
      "execution_count": 0,
      "outputs": []
    },
    {
      "metadata": {
        "id": "98zwjiT6XgIu",
        "colab_type": "code",
        "colab": {}
      },
      "cell_type": "code",
      "source": [
        "!pip install xlrd\n",
        "import pandas as pd\n",
        "\n",
        "df = pd.read_excel('https://college.cengage.com/mathematics/brase/understandable_statistics/7e/students/datasets/slr/excel/slr02.xls')\n",
        "df = df.rename(columns={'X':'chirps_per_sec', 'Y':'temperature'})\n",
        "\n",
        "print(df.shape)\n",
        "df.head()"
      ],
      "execution_count": 0,
      "outputs": []
    },
    {
      "metadata": {
        "id": "5oZeVIg12QE2",
        "colab_type": "text"
      },
      "cell_type": "markdown",
      "source": [
        "## 1) Graph a scatterplot of chirps_per_sec vs temperature "
      ]
    },
    {
      "metadata": {
        "id": "AECb-XTY2Ydq",
        "colab_type": "code",
        "colab": {}
      },
      "cell_type": "code",
      "source": [
        "##### Your Code Here #####"
      ],
      "execution_count": 0,
      "outputs": []
    },
    {
      "metadata": {
        "id": "2aWNZV0V2bEJ",
        "colab_type": "text"
      },
      "cell_type": "markdown",
      "source": [
        "## 2) Follow the steps below to compute the coefficients (intercept and slope) for the line of best fit:\n",
        "\n",
        "## 2.1) Use np.ones to add a column of ones to the dataframe"
      ]
    },
    {
      "metadata": {
        "id": "cRlmMxmi2p1V",
        "colab_type": "code",
        "colab": {}
      },
      "cell_type": "code",
      "source": [
        "##### Your Code Here #####"
      ],
      "execution_count": 0,
      "outputs": []
    },
    {
      "metadata": {
        "id": "OJfdQP9x2sI0",
        "colab_type": "text"
      },
      "cell_type": "markdown",
      "source": [
        "## 2.2) Create your X matrix from the 'ones' and 'temperature' columns"
      ]
    },
    {
      "metadata": {
        "id": "Xv86TNYh2z15",
        "colab_type": "code",
        "colab": {}
      },
      "cell_type": "code",
      "source": [
        "##### Your Code Here #####"
      ],
      "execution_count": 0,
      "outputs": []
    },
    {
      "metadata": {
        "id": "ynw-nyzF23Wj",
        "colab_type": "text"
      },
      "cell_type": "markdown",
      "source": [
        "## 2.3) Create your Y vector from the chips_per_sec column. (Make sure that it is formatted as a column vector.)"
      ]
    },
    {
      "metadata": {
        "id": "--prRurc3Buq",
        "colab_type": "code",
        "colab": {}
      },
      "cell_type": "code",
      "source": [
        "##### Your Code Here #####"
      ],
      "execution_count": 0,
      "outputs": []
    },
    {
      "metadata": {
        "id": "m6x387_d3FJF",
        "colab_type": "text"
      },
      "cell_type": "markdown",
      "source": [
        "## 2.4) Calculate X_transpose and print the result: $X^{T}$ "
      ]
    },
    {
      "metadata": {
        "id": "9ifTSQu93NT7",
        "colab_type": "code",
        "colab": {}
      },
      "cell_type": "code",
      "source": [
        "##### Your Code Here #####"
      ],
      "execution_count": 0,
      "outputs": []
    },
    {
      "metadata": {
        "id": "UXp5-eOH3QgG",
        "colab_type": "text"
      },
      "cell_type": "markdown",
      "source": [
        "## 2.5) Calculate X_transpose_X and print the result: $X^{T}X$"
      ]
    },
    {
      "metadata": {
        "id": "w6G8_DCw3Pw_",
        "colab_type": "code",
        "colab": {}
      },
      "cell_type": "code",
      "source": [
        "##### Your Code Here #####"
      ],
      "execution_count": 0,
      "outputs": []
    },
    {
      "metadata": {
        "id": "maQVOiZ03fuj",
        "colab_type": "text"
      },
      "cell_type": "markdown",
      "source": [
        "## 2.6) Calculate the inverse of X_transpose_X and print the result: $(X^{T}X)^{-1}$ "
      ]
    },
    {
      "metadata": {
        "id": "htk9bCmN3zUT",
        "colab_type": "code",
        "colab": {}
      },
      "cell_type": "code",
      "source": [
        "##### Your Code Here #####"
      ],
      "execution_count": 0,
      "outputs": []
    },
    {
      "metadata": {
        "id": "jKEkWq-j30ty",
        "colab_type": "text"
      },
      "cell_type": "markdown",
      "source": [
        "## 2.7) An aside: Multiply the X_tranpose_X matrix against its inverse: $(X^{T}X)(X^{T}X)^{-1}$  Print the result. What is the name for the resulting matrix?"
      ]
    },
    {
      "metadata": {
        "id": "P5HWnZdS4A3u",
        "colab_type": "code",
        "colab": {}
      },
      "cell_type": "code",
      "source": [
        "##### Your Code Here #####"
      ],
      "execution_count": 0,
      "outputs": []
    },
    {
      "metadata": {
        "id": "aSbkbyT72QYW",
        "colab_type": "text"
      },
      "cell_type": "markdown",
      "source": [
        "## 2.8) Calculate X_transpose_Y and print the result: $X^{T}Y$"
      ]
    },
    {
      "metadata": {
        "id": "V_05w71-4RLh",
        "colab_type": "code",
        "colab": {}
      },
      "cell_type": "code",
      "source": [
        "##### Your Code Here #####"
      ],
      "execution_count": 0,
      "outputs": []
    },
    {
      "metadata": {
        "id": "rJCc26lh2Qa9",
        "colab_type": "text"
      },
      "cell_type": "markdown",
      "source": [
        "## 2.9) Finally, calculate the Beta coefficients vector by multiplying the left and right halfs of the linear regression equation. Print the Beta vector: $\\beta = (X^{T}X)^{-1} X^{T}Y$  \n",
        "(You should have all of the parts to do this now)"
      ]
    },
    {
      "metadata": {
        "id": "yTLRwR2h4kaO",
        "colab_type": "code",
        "colab": {}
      },
      "cell_type": "code",
      "source": [
        "##### Your Code Here #####"
      ],
      "execution_count": 0,
      "outputs": []
    },
    {
      "metadata": {
        "id": "m0YYw0WQ2Qeq",
        "colab_type": "text"
      },
      "cell_type": "markdown",
      "source": [
        "## 3) Graph the line of best fit through the scatterplot of the data points"
      ]
    },
    {
      "metadata": {
        "id": "txgLJSAF4Ptc",
        "colab_type": "code",
        "colab": {}
      },
      "cell_type": "code",
      "source": [
        "##### Your Code Here #####"
      ],
      "execution_count": 0,
      "outputs": []
    },
    {
      "metadata": {
        "id": "aUcBfGgW2QhL",
        "colab_type": "text"
      },
      "cell_type": "markdown",
      "source": [
        "## 4) If a cricket has chirped 19 times in a second what is the predicted temperature? Plot this prediction as well."
      ]
    },
    {
      "metadata": {
        "id": "ibDbYkdvv9Nt",
        "colab_type": "code",
        "colab": {}
      },
      "cell_type": "code",
      "source": [
        "##### Your Code Here #####"
      ],
      "execution_count": 0,
      "outputs": []
    },
    {
      "metadata": {
        "id": "NTP8CSuQ0_qq",
        "colab_type": "text"
      },
      "cell_type": "markdown",
      "source": [
        "##Stretch Problem\n",
        "Let's add a 3rd dimension. \n",
        "\n",
        "X1 = systolic blood pressure\n",
        "\n",
        "X2 = age in years\n",
        "\n",
        "X3 = weight in pounds\n",
        "\n",
        "Compute the coefficients for the **plane** of best fit for\n",
        "\n",
        "$X_1 = \\beta_1X_2 + \\beta_2X_3 + \\beta_0$\n",
        "\n",
        "Then graph the plane in addition to the  datapoints in a **3D** graph.\n",
        "An article to get you started on [3D graphing](https://jakevdp.github.io/PythonDataScienceHandbook/04.12-three-dimensional-plotting.html)"
      ]
    },
    {
      "metadata": {
        "id": "wghLKfsz0_HX",
        "colab_type": "code",
        "colab": {}
      },
      "cell_type": "code",
      "source": [
        "s_data = pd.read_excel('https://college.cengage.com/mathematics/brase/understandable_statistics/7e/students/datasets/mlr/excel/mlr02.xls')\n",
        "print(s_data.head())\n",
        "s_data.shape"
      ],
      "execution_count": 0,
      "outputs": []
    }
  ]
}