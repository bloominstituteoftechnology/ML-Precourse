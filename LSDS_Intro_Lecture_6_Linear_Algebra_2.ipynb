{
  "nbformat": 4,
  "nbformat_minor": 0,
  "metadata": {
    "colab": {
      "name": "LSDS Intro Lecture 6 - Linear Algebra 2.ipynb",
      "version": "0.3.2",
      "provenance": [],
      "include_colab_link": true
    },
    "kernelspec": {
      "name": "python3",
      "display_name": "Python 3"
    }
  },
  "cells": [
    {
      "cell_type": "markdown",
      "metadata": {
        "id": "view-in-github",
        "colab_type": "text"
      },
      "source": [
        "[View in Colaboratory](https://colab.research.google.com/github/ShreyasJothish/ML-Precourse/blob/master/LSDS_Intro_Lecture_6_Linear_Algebra_2.ipynb)"
      ]
    },
    {
      "metadata": {
        "id": "ysdkD6ZKB5mm",
        "colab_type": "text"
      },
      "cell_type": "markdown",
      "source": [
        "###Objectives\n",
        "\n",
        "Compute the “Least Squares Solution” of a linear regression\n",
        "\n",
        "Solve equations simultaneously using matrix algebra\n",
        "\n",
        "Represent equations in matrix form"
      ]
    },
    {
      "metadata": {
        "id": "thrOfD0HTyzb",
        "colab_type": "text"
      },
      "cell_type": "markdown",
      "source": [
        "##A review from yesterday:\n",
        "\n",
        "What is the result of multplying these two matrices together?\n",
        "\n",
        "$\\begin{bmatrix} 1 & 2 \\\\ 3 & 4 \\end{bmatrix} $\n",
        "$ \\begin{bmatrix} 5 &6 \\\\ 7&8 \\end{bmatrix} $\n",
        "\n",
        "We can break the second matrix up into two vectors and multiply the first matrix by each vector\n",
        "\n",
        "$ \\begin{bmatrix} 5 \\\\ 7 \\end{bmatrix}$\n",
        "$\\begin{bmatrix} 1 & 2 \\\\ 3 & 4 \\end{bmatrix}$\n",
        "\n",
        "$5 \\begin{bmatrix} 1 \\\\ 3 \\end{bmatrix} +$\n",
        " $7  \\begin{bmatrix} 2 \\\\ 4 \\end{bmatrix} =$ \n",
        " \n",
        " $(5 \\cdot 1) + (7\\cdot 2) = 19$\n",
        " \n",
        " $(5 \\cdot 3) + (7 \\cdot 4) = 43$\n",
        " \n",
        " And now the 2nd column of the 2nd matrix\n",
        " \n",
        " $ \\begin{bmatrix} 6 \\\\ 8 \\end{bmatrix}$\n",
        "$\\begin{bmatrix} 1 & 2 \\\\ 3 & 4 \\end{bmatrix}$\n",
        "\n",
        "$6 \\begin{bmatrix} 1 \\\\ 3 \\end{bmatrix} +$\n",
        " $8  \\begin{bmatrix} 2 \\\\ 4 \\end{bmatrix} =$ \n",
        " \n",
        " $(6 \\cdot 1) + (8\\cdot 2) = 22$\n",
        " \n",
        " $(6 \\cdot 3) + (8 \\cdot 4) = 50$\n",
        " \n",
        " So the result is \n",
        " $\\begin{bmatrix} 19 & 22\\\\ 43 & 50 \\end{bmatrix} $\n",
        "\n",
        "\n",
        "Do you see the instances of dot product? \n",
        "\n",
        "$ \\begin{bmatrix} 5 \\\\ 7 \\end{bmatrix}$\n",
        "$ \\begin{bmatrix} 1 & 2\\end{bmatrix} = 19$\n",
        "\n",
        "$ \\begin{bmatrix} 6 \\\\ 8 \\end{bmatrix}$\n",
        "$ \\begin{bmatrix} 1 & 2\\end{bmatrix} = 22$\n",
        "\n",
        "$ \\begin{bmatrix} 5 \\\\ 7 \\end{bmatrix}$\n",
        "$ \\begin{bmatrix} 3 & 4\\end{bmatrix} = 43$\n",
        "\n",
        "$ \\begin{bmatrix} 6 \\\\ 8\\end{bmatrix}$\n",
        "$ \\begin{bmatrix} 3 & 4\\end{bmatrix} = 50$"
      ]
    },
    {
      "metadata": {
        "id": "CCqSs_JMFPnR",
        "colab_type": "text"
      },
      "cell_type": "markdown",
      "source": [
        "Matrix multiplication is easy to get confused in so practice helps build familiarity and comfort with...\n",
        "\n",
        "But lets move into applications\n",
        "\n",
        "Who remembers the formula for a line?"
      ]
    },
    {
      "metadata": {
        "id": "t8TYXSvhBbzW",
        "colab_type": "code",
        "colab": {
          "base_uri": "https://localhost:8080/",
          "height": 362
        },
        "outputId": "4479e008-653d-44bd-be0c-5728d24b3872"
      },
      "cell_type": "code",
      "source": [
        "import matplotlib.pyplot as plt\n",
        "\n",
        "x = [0, 1, 2]\n",
        "m = 3\n",
        "b = 2\n",
        "y = [m*x + b for x in x]\n",
        "\n",
        "plt.plot(x,y)\n",
        "plt.title('a line')\n",
        "plt.show()"
      ],
      "execution_count": 1,
      "outputs": [
        {
          "output_type": "display_data",
          "data": {
            "image/png": "[encoded data removed]",
            "text/plain": [
              "<matplotlib.figure.Figure at 0x7fa5ba55b828>"
            ]
          },
          "metadata": {
            "tags": []
          }
        }
      ]
    },
    {
      "metadata": {
        "id": "PtbIV7cvI7O4",
        "colab_type": "text"
      },
      "cell_type": "markdown",
      "source": [
        "# y = mx + b\n",
        "\n",
        "### General Form:\n",
        "2 = m(0) + b\n",
        "\n",
        "5 = m(1) + b\n",
        "\n",
        "8 = m(2) + b\n",
        "\n",
        "### General Form with Slope and Intercept:\n",
        "2 = 3(0) + 2\n",
        "\n",
        "5 = 3(1) + 2\n",
        "\n",
        "8 = 3(2) + 2\n",
        "\n",
        "### Notice that I could actually represent this in vector form. \n",
        "\n",
        "  \\begin{align}\n",
        "      \\begin{bmatrix}\n",
        "           2\\\\\n",
        "           5\\\\\n",
        "           8\n",
        "         \\end{bmatrix}\n",
        "         = \n",
        "         3   \\begin{bmatrix}\n",
        "           0\\\\\n",
        "           1\\\\\n",
        "           2\n",
        "         \\end{bmatrix}\n",
        "         + 2 \\begin{bmatrix}\n",
        "           1\\\\\n",
        "           1\\\\\n",
        "           1\n",
        "         \\end{bmatrix}\n",
        "  \\end{align}\n",
        "  ### It's scalar multiplication and vector addition just like we used yesterday.\n",
        "  \n",
        "  ### More generally we could write it as:\n",
        "   \\begin{align}\n",
        "      \\begin{bmatrix}\n",
        "           y_{0}\\\\\n",
        "           \\vdots\\\\\n",
        "           y_{n}\n",
        "         \\end{bmatrix}\n",
        "         = \n",
        "         3   \\begin{bmatrix}\n",
        "           x_{0}\\\\\n",
        "           \\vdots\\\\\n",
        "           x_{n}\n",
        "         \\end{bmatrix}\n",
        "         + 2 \\begin{bmatrix}\n",
        "           1\\\\\n",
        "           \\vdots\\\\\n",
        "           1\n",
        "         \\end{bmatrix}\n",
        "  \\end{align}\n",
        "  \n",
        " ### What if I had two equations and I wanted to know where the lines intersect? \n",
        "  \n",
        "  y = 3x+2\n",
        "  \n",
        "  y = -x  + 5\n",
        "  \n",
        " ### How would I solve this algebraically? (the substitution method)\n",
        "  \n",
        "  3x +2 = -x + 5\n",
        "  \n",
        "  4x +2 = 5\n",
        "  \n",
        "  4x = 3\n",
        "  \n",
        "  x = .75\n",
        "  \n",
        "  y = -(.75) + 5\n",
        "  \n",
        "  y = 4.25\n",
        "  \n",
        " ### So the two lines intersect at the coordinates of (.75, 4.25)"
      ]
    },
    {
      "metadata": {
        "id": "6mYj4d1kO0Cw",
        "colab_type": "code",
        "colab": {
          "base_uri": "https://localhost:8080/",
          "height": 347
        },
        "outputId": "c50f78d7-cb3d-483d-95f1-5eb67ed4f8b8"
      },
      "cell_type": "code",
      "source": [
        "x = [0,1,2]\n",
        "m = 3\n",
        "b = 2\n",
        "y = [m*x +b for x in x]\n",
        "\n",
        "m_1 = -1\n",
        "b_1 = 5\n",
        "y_1 = [m_1*x +b_1 for x in x]\n",
        "\n",
        "plt.plot(x,y)\n",
        "plt.plot(x, y_1)\n",
        "plt.show()"
      ],
      "execution_count": 2,
      "outputs": [
        {
          "output_type": "display_data",
          "data": {
            "image/png": "[encoded data removed]",
            "text/plain": [
              "<matplotlib.figure.Figure at 0x7fa5ba55b278>"
            ]
          },
          "metadata": {
            "tags": []
          }
        }
      ]
    },
    {
      "metadata": {
        "id": "3ErYPYdOQAkb",
        "colab_type": "text"
      },
      "cell_type": "markdown",
      "source": [
        "### We can also solve this using matrices.\n",
        "\n",
        "### First, rewrite the equations so that the constant is on the right side of the equation\n",
        "\n",
        "y = 3x+2 --> y - 3x = 2\n",
        "\n",
        "y = -x + 5 --> y +x = 5\n",
        "\n",
        "### Second put the coeffecients into a matrix and the variables and constants into vectors\n",
        "\n",
        "  \\begin{align}\n",
        "      \\begin{bmatrix}\n",
        "           1\\\n",
        "           {-3}\\\\\n",
        "           1\\\n",
        "           1\n",
        "         \\end{bmatrix}\n",
        "         \\begin{bmatrix}\n",
        "           y\\\\\n",
        "           x\\\\\n",
        "         \\end{bmatrix}\n",
        "         = \\begin{bmatrix}\n",
        "           2\\\\\n",
        "           5\\\\\n",
        "         \\end{bmatrix}\n",
        "  \\end{align}\n",
        "  \n",
        " ### We've now put our equation in Ax = v form.\n",
        "  \n",
        "### From here we can create an augmented matrix\n",
        "  \n",
        "\\begin{bmatrix}\n",
        "  1 & -3 & 2\\\\\n",
        "  1 & 1 & 5\n",
        "\\end{bmatrix}\n",
        " \n",
        " ### From here we can use *row reduction* or *Gaussian elimination* to solve.\n",
        " \n",
        " ### The goal here is to have 1s along the diagonal and 0s in the left triangle. It's hard to visualize with this example so we'll do another longer version after this one.\n",
        " \n",
        " The rules of the game are this:\n",
        " \n",
        " 1) You can swap rows\n",
        " \n",
        " 2) You can scale rows\n",
        " \n",
        " 3) You can add rows\n",
        " \n",
        " ### I need to get a zero in the bottom left corner so, I'm going to multiply Row 1 by -1, add it to Row 2 and put the result in Row 2\n",
        " \n",
        " \n",
        " ### This action can be represented by -1(R1) + R2 => R2\n",
        " \n",
        " \\begin{bmatrix}\n",
        "  1 & -3 & 2\\\\\n",
        "  0 & 4 & 3\n",
        "\\end{bmatrix}\n",
        "  \n",
        " ### We can now rewrite this back into equation form as\n",
        " \n",
        " 1y - 3x = 2\n",
        " \n",
        " &\n",
        " \n",
        " 0y +4x = 3\n",
        " \n",
        " x = .75 \n",
        " \n",
        " y = 4.25\n",
        " \n",
        " ### That probably doesn't seem that exciting but what if the equations got more complicated with more variables?\n",
        " \n",
        " ### What if I had 3 equations and 3 variables?\n",
        " \n",
        " 1x + 1y - 1z = 9\n",
        " \n",
        " 0x+ 1y + 1z = 3\n",
        " \n",
        " -1x + 0y - 2z = 2\n",
        " \n",
        "### Rewritten into Ax = v form...\n",
        "\n",
        " \n",
        " $\\begin{bmatrix}\n",
        "  1 & 1& -1\\\\\n",
        "  0 & 1 & 1 \\\\\n",
        "  -1 & 0 & -2\n",
        "\\end{bmatrix} \\begin{bmatrix} x\\\\ y\\\\ z \\end{bmatrix}\n",
        "= \\begin{bmatrix} 9 \\\\ 3 \\\\ 2 \\end {bmatrix}$ \n",
        "\n",
        "Again we'll create the augmented matrix:\n",
        "\\begin{bmatrix}\n",
        "  1 & 1 & -1 & 9\\\\\n",
        "  0 & 1 & 1& 3 \\\\\n",
        "  -1 & 0 & -2 & 2\n",
        "\\end{bmatrix}\n",
        "\n",
        "### Now we get to play the row reduction game again! Remember, we want zeros in the lower left triangle and 1s along the diagonal.\n",
        "\n",
        "### For my first move, I'm going to swap Row 2 and Row 3 and place the result in Row 3\n",
        "\n",
        "\\begin{bmatrix}\n",
        "  1 & 1 & -1 & 9\\\\\n",
        "  -1 & 0 & -2 & 2\\\\\n",
        "   0 & 1 & 1& 3 \n",
        "\\end{bmatrix}\n",
        "\n",
        "\n",
        "### Next, I'll add Row 1 and Row 2 and place the result in Row 2\n",
        "\\begin{bmatrix}\n",
        "  1 & 1 & -1 & 9\\\\\n",
        "  0 & 1 & -3 & 11\\\\\n",
        "   0 & 1 & 1& 3 \n",
        "\\end{bmatrix}\n",
        "\n",
        "### Now, I'll multiply Row 2 by negative 1 add it to Row 3 and place the result in Row 3\n",
        "\\begin{bmatrix}\n",
        "  1 & 1 & -1 & 9\\\\\n",
        "  0 & 1 & -3 & 11\\\\\n",
        "   0 & 0 & 4& -8\n",
        "\\end{bmatrix}\n",
        "\n",
        "\n",
        "### And finally to get the final 1 in the diagonal, I'll multiply Row 3 by 1/4 and place the result in Row 3\n",
        "\\begin{bmatrix}\n",
        "  1 & 1 & -1 & 9\\\\\n",
        "  0 & 1 & -3 & 11\\\\\n",
        "   0 & 0 & 1& -2\n",
        "\\end{bmatrix}\n",
        "\n",
        "### Now we can solve the equations:\n",
        "\n",
        "x + y - z = 9\n",
        "\n",
        " y -3z = 11\n",
        "      \n",
        " z = -2\n",
        "            \n",
        "  z = -2 so \n",
        "  y + 6 = 11\n",
        "  \n",
        "  y = 5\n",
        "  \n",
        "  x + 5 - (-2) = 9\n",
        "  \n",
        "  x + 7 = 9\n",
        "  \n",
        "  x = 2\n",
        "  \n",
        " ### That means that these planes intersect at the point [2, 5,-2]\n",
        "  \n",
        " ### That was a lot of work - let's do it in code now!"
      ]
    },
    {
      "metadata": {
        "id": "jVbQfVYjviyK",
        "colab_type": "code",
        "colab": {
          "base_uri": "https://localhost:8080/",
          "height": 34
        },
        "outputId": "84153b08-150e-4cff-f814-cca9ffb92473"
      },
      "cell_type": "code",
      "source": [
        "import numpy as np\n",
        "\n",
        "A = np.matrix('1 1 -1; 0 1 1; -1 0 -2')\n",
        "v = np.array([9,3,2])\n",
        "\n",
        "x = np.linalg.solve(A,v)\n",
        "print(x)"
      ],
      "execution_count": 3,
      "outputs": [
        {
          "output_type": "stream",
          "text": [
            "[ 2.  5. -2.]\n"
          ],
          "name": "stdout"
        }
      ]
    },
    {
      "metadata": {
        "id": "Weegwzelw5kw",
        "colab_type": "text"
      },
      "cell_type": "markdown",
      "source": [
        "### Awesome, we can solve series of equations with matrices! \n",
        "\n",
        "### But, what if we want to solve for coefficents and the points aren't on a single line... \n",
        "\n",
        "### Here's an example - I am a server at a restaurant and I want to estimate what my tip will be based off of the bill so I collect some data points"
      ]
    },
    {
      "metadata": {
        "id": "nxMAC9G1xwYq",
        "colab_type": "code",
        "colab": {
          "base_uri": "https://localhost:8080/",
          "height": 347
        },
        "outputId": "8c793a26-07a4-492b-f64f-88c3ef9339cc"
      },
      "cell_type": "code",
      "source": [
        "bill = [20, 24, 11, 23, 40]\n",
        "tip = [3, 5, 2, 5, 7]\n",
        "\n",
        "plt.scatter(bill, tip, marker = 'o')\n",
        "plt.show()"
      ],
      "execution_count": 6,
      "outputs": [
        {
          "output_type": "display_data",
          "data": {
            "image/png": "[encoded data removed]",
            "text/plain": [
              "<matplotlib.figure.Figure at 0x7fcd0cc6dbe0>"
            ]
          },
          "metadata": {
            "tags": []
          }
        }
      ]
    },
    {
      "metadata": {
        "id": "RolUJqKry_do",
        "colab_type": "text"
      },
      "cell_type": "markdown",
      "source": [
        "### I want to find the line that will best estimate what the tip will be based off of the bill. \n",
        "\n",
        "### We return to y = mx+b\n",
        "\n",
        "### But now we'll write it as \n",
        "\n",
        "$ {y} = \\beta_o + \\beta_1x + \\epsilon$ \n",
        "\n",
        "\n",
        "$ \\begin{bmatrix}\n",
        "3\\\\\n",
        "5\\\\\n",
        "2\\\\\n",
        "5\\\\\n",
        "7 \\end {bmatrix} = \\beta_0 \\begin{bmatrix}\n",
        "1\\\\\n",
        "1\\\\\n",
        "1\\\\\n",
        "1\\\\\n",
        "1 \\end {bmatrix}+ \\beta_1\n",
        " \\begin{bmatrix}\n",
        "20\\\\\n",
        "24\\\\\n",
        "11\\\\\n",
        "23\\\\\n",
        "40 \\end {bmatrix} $\n",
        "\n",
        "### This can be rewritten in A(beta) = v form\n",
        "$ \\begin{bmatrix}\n",
        "1 & 20\\\\\n",
        "1 & 24\\\\\n",
        "1 & 11\\\\\n",
        "1 & 23\\\\\n",
        "1 & 40\\end{bmatrix}$\n",
        "$\n",
        "\\begin{bmatrix}\n",
        "{\\beta_0}\\\\\n",
        "{\\beta_1}\\end {bmatrix} =\n",
        "\\begin{bmatrix}\n",
        "3\\\\\n",
        "5\\\\\n",
        "2\\\\\n",
        "5\\\\\n",
        "7 \\end {bmatrix} \n",
        "$\n",
        "\n",
        "### spoiler alert - this isn't actually solveable using row reduction. \n",
        "\n"
      ]
    },
    {
      "metadata": {
        "id": "wezUud60y_D1",
        "colab_type": "code",
        "colab": {
          "base_uri": "https://localhost:8080/",
          "height": 571
        },
        "outputId": "959d06f4-1708-4fc4-af69-2e3327f8e132"
      },
      "cell_type": "code",
      "source": [
        "A_1 = np.matrix('1 20; 1 24; 1 11; 1 23; 1 40')\n",
        "\n",
        "print(A_1)\n",
        "\n",
        "v_1 = np.array([3,5,2,5,7])\n",
        "\n",
        "beta = np.linalg.solve(A_1,v_1)\n",
        "#ERROR"
      ],
      "execution_count": 4,
      "outputs": [
        {
          "output_type": "stream",
          "text": [
            "[[ 1 20]\n",
            " [ 1 24]\n",
            " [ 1 11]\n",
            " [ 1 23]\n",
            " [ 1 40]]\n"
          ],
          "name": "stdout"
        },
        {
          "output_type": "error",
          "ename": "LinAlgError",
          "evalue": "ignored",
          "traceback": [
            "\u001b[0;31m---------------------------------------------------------------------------\u001b[0m",
            "\u001b[0;31mLinAlgError\u001b[0m                               Traceback (most recent call last)",
            "\u001b[0;32m<ipython-input-4-d82e13dd0ce7>\u001b[0m in \u001b[0;36m<module>\u001b[0;34m()\u001b[0m\n\u001b[1;32m      5\u001b[0m \u001b[0mv_1\u001b[0m \u001b[0;34m=\u001b[0m \u001b[0mnp\u001b[0m\u001b[0;34m.\u001b[0m\u001b[0marray\u001b[0m\u001b[0;34m(\u001b[0m\u001b[0;34m[\u001b[0m\u001b[0;36m3\u001b[0m\u001b[0;34m,\u001b[0m\u001b[0;36m5\u001b[0m\u001b[0;34m,\u001b[0m\u001b[0;36m2\u001b[0m\u001b[0;34m,\u001b[0m\u001b[0;36m5\u001b[0m\u001b[0;34m,\u001b[0m\u001b[0;36m7\u001b[0m\u001b[0;34m]\u001b[0m\u001b[0;34m)\u001b[0m\u001b[0;34m\u001b[0m\u001b[0m\n\u001b[1;32m      6\u001b[0m \u001b[0;34m\u001b[0m\u001b[0m\n\u001b[0;32m----> 7\u001b[0;31m \u001b[0mbeta\u001b[0m \u001b[0;34m=\u001b[0m \u001b[0mnp\u001b[0m\u001b[0;34m.\u001b[0m\u001b[0mlinalg\u001b[0m\u001b[0;34m.\u001b[0m\u001b[0msolve\u001b[0m\u001b[0;34m(\u001b[0m\u001b[0mA_1\u001b[0m\u001b[0;34m,\u001b[0m\u001b[0mv_1\u001b[0m\u001b[0;34m)\u001b[0m\u001b[0;34m\u001b[0m\u001b[0m\n\u001b[0m\u001b[1;32m      8\u001b[0m \u001b[0;31m#ERROR\u001b[0m\u001b[0;34m\u001b[0m\u001b[0;34m\u001b[0m\u001b[0m\n",
            "\u001b[0;32m/usr/local/lib/python3.6/dist-packages/numpy/linalg/linalg.py\u001b[0m in \u001b[0;36msolve\u001b[0;34m(a, b)\u001b[0m\n\u001b[1;32m    375\u001b[0m     \u001b[0ma\u001b[0m\u001b[0;34m,\u001b[0m \u001b[0m_\u001b[0m \u001b[0;34m=\u001b[0m \u001b[0m_makearray\u001b[0m\u001b[0;34m(\u001b[0m\u001b[0ma\u001b[0m\u001b[0;34m)\u001b[0m\u001b[0;34m\u001b[0m\u001b[0m\n\u001b[1;32m    376\u001b[0m     \u001b[0m_assertRankAtLeast2\u001b[0m\u001b[0;34m(\u001b[0m\u001b[0ma\u001b[0m\u001b[0;34m)\u001b[0m\u001b[0;34m\u001b[0m\u001b[0m\n\u001b[0;32m--> 377\u001b[0;31m     \u001b[0m_assertNdSquareness\u001b[0m\u001b[0;34m(\u001b[0m\u001b[0ma\u001b[0m\u001b[0;34m)\u001b[0m\u001b[0;34m\u001b[0m\u001b[0m\n\u001b[0m\u001b[1;32m    378\u001b[0m     \u001b[0mb\u001b[0m\u001b[0;34m,\u001b[0m \u001b[0mwrap\u001b[0m \u001b[0;34m=\u001b[0m \u001b[0m_makearray\u001b[0m\u001b[0;34m(\u001b[0m\u001b[0mb\u001b[0m\u001b[0;34m)\u001b[0m\u001b[0;34m\u001b[0m\u001b[0m\n\u001b[1;32m    379\u001b[0m     \u001b[0mt\u001b[0m\u001b[0;34m,\u001b[0m \u001b[0mresult_t\u001b[0m \u001b[0;34m=\u001b[0m \u001b[0m_commonType\u001b[0m\u001b[0;34m(\u001b[0m\u001b[0ma\u001b[0m\u001b[0;34m,\u001b[0m \u001b[0mb\u001b[0m\u001b[0;34m)\u001b[0m\u001b[0;34m\u001b[0m\u001b[0m\n",
            "\u001b[0;32m/usr/local/lib/python3.6/dist-packages/numpy/linalg/linalg.py\u001b[0m in \u001b[0;36m_assertNdSquareness\u001b[0;34m(*arrays)\u001b[0m\n\u001b[1;32m    209\u001b[0m     \u001b[0;32mfor\u001b[0m \u001b[0ma\u001b[0m \u001b[0;32min\u001b[0m \u001b[0marrays\u001b[0m\u001b[0;34m:\u001b[0m\u001b[0;34m\u001b[0m\u001b[0m\n\u001b[1;32m    210\u001b[0m         \u001b[0;32mif\u001b[0m \u001b[0mmax\u001b[0m\u001b[0;34m(\u001b[0m\u001b[0ma\u001b[0m\u001b[0;34m.\u001b[0m\u001b[0mshape\u001b[0m\u001b[0;34m[\u001b[0m\u001b[0;34m-\u001b[0m\u001b[0;36m2\u001b[0m\u001b[0;34m:\u001b[0m\u001b[0;34m]\u001b[0m\u001b[0;34m)\u001b[0m \u001b[0;34m!=\u001b[0m \u001b[0mmin\u001b[0m\u001b[0;34m(\u001b[0m\u001b[0ma\u001b[0m\u001b[0;34m.\u001b[0m\u001b[0mshape\u001b[0m\u001b[0;34m[\u001b[0m\u001b[0;34m-\u001b[0m\u001b[0;36m2\u001b[0m\u001b[0;34m:\u001b[0m\u001b[0;34m]\u001b[0m\u001b[0;34m)\u001b[0m\u001b[0;34m:\u001b[0m\u001b[0;34m\u001b[0m\u001b[0m\n\u001b[0;32m--> 211\u001b[0;31m             \u001b[0;32mraise\u001b[0m \u001b[0mLinAlgError\u001b[0m\u001b[0;34m(\u001b[0m\u001b[0;34m'Last 2 dimensions of the array must be square'\u001b[0m\u001b[0;34m)\u001b[0m\u001b[0;34m\u001b[0m\u001b[0m\n\u001b[0m\u001b[1;32m    212\u001b[0m \u001b[0;34m\u001b[0m\u001b[0m\n\u001b[1;32m    213\u001b[0m \u001b[0;32mdef\u001b[0m \u001b[0m_assertFinite\u001b[0m\u001b[0;34m(\u001b[0m\u001b[0;34m*\u001b[0m\u001b[0marrays\u001b[0m\u001b[0;34m)\u001b[0m\u001b[0;34m:\u001b[0m\u001b[0;34m\u001b[0m\u001b[0m\n",
            "\u001b[0;31mLinAlgError\u001b[0m: Last 2 dimensions of the array must be square"
          ]
        }
      ]
    },
    {
      "metadata": {
        "id": "KrIYj89GPRMj",
        "colab_type": "text"
      },
      "cell_type": "markdown",
      "source": [
        "This makes sense because if you look at the scatterpoint plot, you can see that there is no way that a single line can go through all 5 points. You could connect 2 points with a single line but not all 5.\n",
        "\n",
        "So we have to project a line which will minimize the error between the projected point and the actual point.\n",
        "\n",
        "<img src=\"https://docs.google.com/drawings/d/e/2PACX-1vR5kwrHi2V3bwRuP8U1tcw78zsTMqpx0WM4R5D7uiErWOr8hvCFfV2EUuVIoGxh2EPB9pfxwoUUfQmu/pub?w=960&amp;h=720\">\n",
        "\n",
        "\n",
        "Don't worry too much about this image - it's basically showing that the input matrix made up of the column vectors of matrix A creates the span of this plane. The vector v  [tips] is not in the span of this matrix and thus is shown as coming out of the plane. We want to minimize the error which is the distance between vector v and the projected vector.\n",
        "\n",
        "Notice that the error vector is perpendictular or \"orthoginal\" to the projected vector. What is the dot product of two vectors which are orthoginal?"
      ]
    },
    {
      "metadata": {
        "id": "MmxrgjUa7gX6",
        "colab_type": "text"
      },
      "cell_type": "markdown",
      "source": [
        "Zero!\n",
        "\n",
        "So we can set up an equation as follows\n",
        " \n",
        " $\\epsilon =  \n",
        " \\begin{bmatrix}3\\\\5\\\\2\\\\5\\\\7 \\end{bmatrix} -\n",
        "\\begin{bmatrix} 1 & 20\\\\ 1 & 24\\\\1 & 11\\\\1 & 23\\\\1 & 40\\end{bmatrix}\n",
        "\\begin{bmatrix}\n",
        "{\\beta_0}\\\\\n",
        "{\\beta_1}\n",
        "\\end {bmatrix} \n",
        "$\n",
        "\n",
        "(summarized as $\\epsilon = v - A\\beta$)\n",
        "\n",
        "Remember that in order to find the vertical distance between the observed values and the predicted values, the dot-product of A-transpose and E must be 0.\n",
        "\n",
        " $ A^{T}\\cdot \\epsilon = 0$\n",
        "\n",
        "$ A^{T} \\cdot (v - A\\beta) = 0$\n",
        "\n",
        "Next we want to get $\\beta$ on its own (remember we're trying to solve for the coefficents)\n",
        "- Distribute $A^{T}$\n",
        "\n",
        "$A^{T}v - A^{T}A\\beta = 0$\n",
        "\n",
        "- Move beta to the other side of the equation\n",
        "\n",
        "$A^{T}v = A^{T}A\\beta $\n",
        "\n",
        "- To get beta by itself multiply both sides of the equation by $(A^{T}A)^{-1}$\n",
        "\n",
        "$(A^{T}A)^{-1} A^{T}v =  (A^{T}A)^{-1}A^{T}A\\beta $\n",
        "\n",
        "- A matrix multipled by its inverse is the identity matrix which equals 1, So\n",
        "\n",
        "$\\beta = (A^{T}A)^{-1} A^{T}v$ \n",
        "\n",
        "We have our formula to calculate the beta values! \n",
        "(Don't worry if all of that was really confusing the formula is the more important part and we'll also use libraries to make it even simpler. )\n",
        "(Check out this[ blog article](https://medium.com/@andrew.chamberlain/the-linear-algebra-view-of-least-squares-regression-f67044b7f39b) for more information on the linear algebra approach to least squares)\n",
        "\n",
        "Let's code this out ~"
      ]
    },
    {
      "metadata": {
        "id": "nZ-1VgsyDKgF",
        "colab_type": "code",
        "colab": {
          "base_uri": "https://localhost:8080/",
          "height": 50
        },
        "outputId": "6e7ed61b-52f5-4bab-882d-5955625bf011"
      },
      "cell_type": "code",
      "source": [
        "A = np.matrix(\"1  20; 1  24; 1 11; 1 23; 1 40\")\n",
        "v = np.matrix(\"3; 5; 2; 5; 7\")\n",
        "\n",
        "A_transpose = np.transpose(A)\n",
        "A_transpose_A = np.matmul(A_transpose, A)\n",
        "inverse = np.linalg.inv(A_transpose_A)\n",
        "v_A_transpose = np.matmul(A_transpose, v)\n",
        "beta = np.matmul(inverse, v_A_transpose)\n",
        "\n",
        "print(beta)"
      ],
      "execution_count": 8,
      "outputs": [
        {
          "output_type": "stream",
          "text": [
            "[[0.23844062]\n",
            " [0.17633726]]\n"
          ],
          "name": "stdout"
        }
      ]
    },
    {
      "metadata": {
        "id": "gutpQQFXKiBi",
        "colab_type": "code",
        "colab": {
          "base_uri": "https://localhost:8080/",
          "height": 384
        },
        "outputId": "bc9d3f0e-5d9e-4b1f-cf06-d736eb79bbea"
      },
      "cell_type": "code",
      "source": [
        "# we have our beta values! So we can create a prediction line\n",
        "\n",
        "beta_0 = beta[0,0]\n",
        "beta_1 = beta[1,0]\n",
        "\n",
        "bill = [20, 24, 11, 23, 40]\n",
        "tip = [3, 5, 2, 5, 7]\n",
        "y_hat = [beta_1*x + beta_0 for x in bill]\n",
        "plt.scatter(bill, tip, marker = 'o', color = 'red')\n",
        "plt.plot(bill, y_hat)\n",
        "plt.show()\n",
        "\n",
        "print(\"predicted values:\", y_hat)\n"
      ],
      "execution_count": 9,
      "outputs": [
        {
          "output_type": "display_data",
          "data": {
            "image/png": "[encoded data removed]",
            "text/plain": [
              "<matplotlib.figure.Figure at 0x7fcd09d5ca90>"
            ]
          },
          "metadata": {
            "tags": []
          }
        },
        {
          "output_type": "stream",
          "text": [
            "predicted values: [3.7651858567543073, 4.470534904805078, 2.1781504986400737, 4.294197642792385, 7.29193109700816]\n"
          ],
          "name": "stdout"
        }
      ]
    },
    {
      "metadata": {
        "id": "q7alV2SjKfCE",
        "colab_type": "text"
      },
      "cell_type": "markdown",
      "source": [
        "### We have library options as well, so we have even less to write!"
      ]
    },
    {
      "metadata": {
        "id": "-fhmpqRDPRYS",
        "colab_type": "code",
        "colab": {
          "base_uri": "https://localhost:8080/",
          "height": 50
        },
        "outputId": "cd174c95-2f26-470b-a6ba-687b8a9122f2"
      },
      "cell_type": "code",
      "source": [
        "lib_beta_0, lib_beta_1 = np.linalg.lstsq(A_1, v_1, rcond= None)[0]\n",
        "\n",
        "print('lib_beta_0:',lib_beta_0)\n",
        "print('lib_beta_1:', lib_beta_1)"
      ],
      "execution_count": 10,
      "outputs": [
        {
          "output_type": "stream",
          "text": [
            "lib_beta_0: 0.23844061650045226\n",
            "lib_beta_1: 0.17633726201269273\n"
          ],
          "name": "stdout"
        }
      ]
    },
    {
      "metadata": {
        "id": "k7LbGGGtqbKs",
        "colab_type": "text"
      },
      "cell_type": "markdown",
      "source": [
        "## What if our data comes from a CSV or a Pandas Dataframe?\n",
        "### Or should I say Pandas Matrix?"
      ]
    },
    {
      "metadata": {
        "id": "DtNPcyh4qwv1",
        "colab_type": "code",
        "colab": {
          "base_uri": "https://localhost:8080/",
          "height": 390
        },
        "outputId": "7db29dac-4adf-4438-84ea-cbcec0a5f63a"
      },
      "cell_type": "code",
      "source": [
        "import pandas as pd\n",
        "\n",
        "df = pd.read_csv('https://raw.githubusercontent.com/ryanleeallred/datasets/master/Ice_Cream_Sales.csv')\n",
        "print(df.shape)\n",
        "df.head(11)"
      ],
      "execution_count": 81,
      "outputs": [
        {
          "output_type": "stream",
          "text": [
            "(11, 2)\n"
          ],
          "name": "stdout"
        },
        {
          "output_type": "execute_result",
          "data": {
            "text/html": [
              "<div>\n",
              "<style scoped>\n",
              "    .dataframe tbody tr th:only-of-type {\n",
              "        vertical-align: middle;\n",
              "    }\n",
              "\n",
              "    .dataframe tbody tr th {\n",
              "        vertical-align: top;\n",
              "    }\n",
              "\n",
              "    .dataframe thead th {\n",
              "        text-align: right;\n",
              "    }\n",
              "</style>\n",
              "<table border=\"1\" class=\"dataframe\">\n",
              "  <thead>\n",
              "    <tr style=\"text-align: right;\">\n",
              "      <th></th>\n",
              "      <th>Farenheit</th>\n",
              "      <th>Dollars</th>\n",
              "    </tr>\n",
              "  </thead>\n",
              "  <tbody>\n",
              "    <tr>\n",
              "      <th>0</th>\n",
              "      <td>32</td>\n",
              "      <td>200</td>\n",
              "    </tr>\n",
              "    <tr>\n",
              "      <th>1</th>\n",
              "      <td>35</td>\n",
              "      <td>400</td>\n",
              "    </tr>\n",
              "    <tr>\n",
              "      <th>2</th>\n",
              "      <td>47</td>\n",
              "      <td>500</td>\n",
              "    </tr>\n",
              "    <tr>\n",
              "      <th>3</th>\n",
              "      <td>55</td>\n",
              "      <td>600</td>\n",
              "    </tr>\n",
              "    <tr>\n",
              "      <th>4</th>\n",
              "      <td>73</td>\n",
              "      <td>1100</td>\n",
              "    </tr>\n",
              "    <tr>\n",
              "      <th>5</th>\n",
              "      <td>78</td>\n",
              "      <td>1200</td>\n",
              "    </tr>\n",
              "    <tr>\n",
              "      <th>6</th>\n",
              "      <td>81</td>\n",
              "      <td>1500</td>\n",
              "    </tr>\n",
              "    <tr>\n",
              "      <th>7</th>\n",
              "      <td>86</td>\n",
              "      <td>1700</td>\n",
              "    </tr>\n",
              "    <tr>\n",
              "      <th>8</th>\n",
              "      <td>89</td>\n",
              "      <td>1800</td>\n",
              "    </tr>\n",
              "    <tr>\n",
              "      <th>9</th>\n",
              "      <td>90</td>\n",
              "      <td>1600</td>\n",
              "    </tr>\n",
              "    <tr>\n",
              "      <th>10</th>\n",
              "      <td>110</td>\n",
              "      <td>2000</td>\n",
              "    </tr>\n",
              "  </tbody>\n",
              "</table>\n",
              "</div>"
            ],
            "text/plain": [
              "    Farenheit  Dollars\n",
              "0          32      200\n",
              "1          35      400\n",
              "2          47      500\n",
              "3          55      600\n",
              "4          73     1100\n",
              "5          78     1200\n",
              "6          81     1500\n",
              "7          86     1700\n",
              "8          89     1800\n",
              "9          90     1600\n",
              "10        110     2000"
            ]
          },
          "metadata": {
            "tags": []
          },
          "execution_count": 81
        }
      ]
    },
    {
      "metadata": {
        "id": "PAh8i1IxrBPv",
        "colab_type": "text"
      },
      "cell_type": "markdown",
      "source": [
        "### The Dollars column will be our Y vector and our Farenheit column will be our X vector.\n",
        "### Don't forget that we have to add a column of 1s to our X matrix in order to solve for the slope and intercept values correctly."
      ]
    },
    {
      "metadata": {
        "id": "kuo5icVqrf19",
        "colab_type": "code",
        "colab": {
          "base_uri": "https://localhost:8080/",
          "height": 373
        },
        "outputId": "b8dd6c34-188b-4e4a-da4a-ff710712ebce"
      },
      "cell_type": "code",
      "source": [
        "df['Ones'] = np.ones(11)\n",
        "\n",
        "df.head(11)"
      ],
      "execution_count": 82,
      "outputs": [
        {
          "output_type": "execute_result",
          "data": {
            "text/html": [
              "<div>\n",
              "<style scoped>\n",
              "    .dataframe tbody tr th:only-of-type {\n",
              "        vertical-align: middle;\n",
              "    }\n",
              "\n",
              "    .dataframe tbody tr th {\n",
              "        vertical-align: top;\n",
              "    }\n",
              "\n",
              "    .dataframe thead th {\n",
              "        text-align: right;\n",
              "    }\n",
              "</style>\n",
              "<table border=\"1\" class=\"dataframe\">\n",
              "  <thead>\n",
              "    <tr style=\"text-align: right;\">\n",
              "      <th></th>\n",
              "      <th>Farenheit</th>\n",
              "      <th>Dollars</th>\n",
              "      <th>Ones</th>\n",
              "    </tr>\n",
              "  </thead>\n",
              "  <tbody>\n",
              "    <tr>\n",
              "      <th>0</th>\n",
              "      <td>32</td>\n",
              "      <td>200</td>\n",
              "      <td>1.0</td>\n",
              "    </tr>\n",
              "    <tr>\n",
              "      <th>1</th>\n",
              "      <td>35</td>\n",
              "      <td>400</td>\n",
              "      <td>1.0</td>\n",
              "    </tr>\n",
              "    <tr>\n",
              "      <th>2</th>\n",
              "      <td>47</td>\n",
              "      <td>500</td>\n",
              "      <td>1.0</td>\n",
              "    </tr>\n",
              "    <tr>\n",
              "      <th>3</th>\n",
              "      <td>55</td>\n",
              "      <td>600</td>\n",
              "      <td>1.0</td>\n",
              "    </tr>\n",
              "    <tr>\n",
              "      <th>4</th>\n",
              "      <td>73</td>\n",
              "      <td>1100</td>\n",
              "      <td>1.0</td>\n",
              "    </tr>\n",
              "    <tr>\n",
              "      <th>5</th>\n",
              "      <td>78</td>\n",
              "      <td>1200</td>\n",
              "      <td>1.0</td>\n",
              "    </tr>\n",
              "    <tr>\n",
              "      <th>6</th>\n",
              "      <td>81</td>\n",
              "      <td>1500</td>\n",
              "      <td>1.0</td>\n",
              "    </tr>\n",
              "    <tr>\n",
              "      <th>7</th>\n",
              "      <td>86</td>\n",
              "      <td>1700</td>\n",
              "      <td>1.0</td>\n",
              "    </tr>\n",
              "    <tr>\n",
              "      <th>8</th>\n",
              "      <td>89</td>\n",
              "      <td>1800</td>\n",
              "      <td>1.0</td>\n",
              "    </tr>\n",
              "    <tr>\n",
              "      <th>9</th>\n",
              "      <td>90</td>\n",
              "      <td>1600</td>\n",
              "      <td>1.0</td>\n",
              "    </tr>\n",
              "    <tr>\n",
              "      <th>10</th>\n",
              "      <td>110</td>\n",
              "      <td>2000</td>\n",
              "      <td>1.0</td>\n",
              "    </tr>\n",
              "  </tbody>\n",
              "</table>\n",
              "</div>"
            ],
            "text/plain": [
              "    Farenheit  Dollars  Ones\n",
              "0          32      200   1.0\n",
              "1          35      400   1.0\n",
              "2          47      500   1.0\n",
              "3          55      600   1.0\n",
              "4          73     1100   1.0\n",
              "5          78     1200   1.0\n",
              "6          81     1500   1.0\n",
              "7          86     1700   1.0\n",
              "8          89     1800   1.0\n",
              "9          90     1600   1.0\n",
              "10        110     2000   1.0"
            ]
          },
          "metadata": {
            "tags": []
          },
          "execution_count": 82
        }
      ]
    },
    {
      "metadata": {
        "id": "NciJAEH8r06Z",
        "colab_type": "code",
        "colab": {
          "base_uri": "https://localhost:8080/",
          "height": 202
        },
        "outputId": "8bdce73f-89f6-4f6b-ba35-697f1ddd3017"
      },
      "cell_type": "code",
      "source": [
        "X = df[['Ones', 'Farenheit']].as_matrix()\n",
        "\n",
        "print(X)"
      ],
      "execution_count": 83,
      "outputs": [
        {
          "output_type": "stream",
          "text": [
            "[[  1.  32.]\n",
            " [  1.  35.]\n",
            " [  1.  47.]\n",
            " [  1.  55.]\n",
            " [  1.  73.]\n",
            " [  1.  78.]\n",
            " [  1.  81.]\n",
            " [  1.  86.]\n",
            " [  1.  89.]\n",
            " [  1.  90.]\n",
            " [  1. 110.]]\n"
          ],
          "name": "stdout"
        }
      ]
    },
    {
      "metadata": {
        "id": "YG592_X-sF2H",
        "colab_type": "code",
        "colab": {
          "base_uri": "https://localhost:8080/",
          "height": 202
        },
        "outputId": "878e3e02-0362-41de-907d-c14daaf63030"
      },
      "cell_type": "code",
      "source": [
        "Y = df['Dollars'].as_matrix().reshape(-1, 1)\n",
        "\n",
        "print(Y)"
      ],
      "execution_count": 84,
      "outputs": [
        {
          "output_type": "stream",
          "text": [
            "[[ 200]\n",
            " [ 400]\n",
            " [ 500]\n",
            " [ 600]\n",
            " [1100]\n",
            " [1200]\n",
            " [1500]\n",
            " [1700]\n",
            " [1800]\n",
            " [1600]\n",
            " [2000]]\n"
          ],
          "name": "stdout"
        }
      ]
    },
    {
      "metadata": {
        "id": "VCZXcvZJtswW",
        "colab_type": "text"
      },
      "cell_type": "markdown",
      "source": [
        "### Use the Linear Regression Equation to solve for the correct beta values:\n",
        "$\\beta = (X^{T}X)^{-1} X^{T}Y$ \n",
        "\n",
        "### The first value in the beta array is the intercept value, and the second is the slope value"
      ]
    },
    {
      "metadata": {
        "id": "v0Fu9RvhtxUr",
        "colab_type": "code",
        "colab": {
          "base_uri": "https://localhost:8080/",
          "height": 50
        },
        "outputId": "13d76d5c-939a-43dd-e49a-1286ad240012"
      },
      "cell_type": "code",
      "source": [
        "beta = np.matmul(np.linalg.inv(np.matmul(np.transpose(X), X)), np.matmul(np.transpose(X), Y))\n",
        "                 \n",
        "print(beta)"
      ],
      "execution_count": 85,
      "outputs": [
        {
          "output_type": "stream",
          "text": [
            "[[-596.20648399]\n",
            " [  24.68849397]]\n"
          ],
          "name": "stdout"
        }
      ]
    },
    {
      "metadata": {
        "id": "OqUkjRXCub5c",
        "colab_type": "text"
      },
      "cell_type": "markdown",
      "source": [
        "### Use matplotlib to plot the points of the graph with the line of best fit included"
      ]
    },
    {
      "metadata": {
        "id": "GF7iqJyNu21h",
        "colab_type": "code",
        "colab": {
          "base_uri": "https://localhost:8080/",
          "height": 393
        },
        "outputId": "3f3727e9-3b8a-4a4c-a107-22a4581db30a"
      },
      "cell_type": "code",
      "source": [
        "# Just the scatterplot\n",
        "plt.scatter(df['Farenheit'], df['Dollars'])\n",
        "plt.title(\"Ice Cream Sales\")\n",
        "plt.ylabel(\"Dollars\")\n",
        "plt.xlabel(\"Farenheit\")"
      ],
      "execution_count": 86,
      "outputs": [
        {
          "output_type": "execute_result",
          "data": {
            "text/plain": [
              "Text(0.5,0,'Farenheit')"
            ]
          },
          "metadata": {
            "tags": []
          },
          "execution_count": 86
        },
        {
          "output_type": "display_data",
          "data": {
            "image/png": "[encoded data removed]",
            "text/plain": [
              "<matplotlib.figure.Figure at 0x7fcd09e24ef0>"
            ]
          },
          "metadata": {
            "tags": []
          }
        }
      ]
    },
    {
      "metadata": {
        "id": "UQwefXTqvuGp",
        "colab_type": "code",
        "colab": {
          "base_uri": "https://localhost:8080/",
          "height": 50
        },
        "outputId": "2ef26189-ca57-4f0f-f029-4378763e589a"
      },
      "cell_type": "code",
      "source": [
        "# Get your beta values out of the beta vector\n",
        "beta_0 = beta[0,0]\n",
        "beta_1 = beta[1,0]\n",
        "\n",
        "print(beta_0)\n",
        "print(beta_1)"
      ],
      "execution_count": 87,
      "outputs": [
        {
          "output_type": "stream",
          "text": [
            "-596.2064839942832\n",
            "24.68849397414573\n"
          ],
          "name": "stdout"
        }
      ]
    },
    {
      "metadata": {
        "id": "Jia3MZeV7X4A",
        "colab_type": "text"
      },
      "cell_type": "markdown",
      "source": [
        "## Scatter Plot *WITH* the line of best fit"
      ]
    },
    {
      "metadata": {
        "id": "urM_AkBCwNAS",
        "colab_type": "code",
        "colab": {
          "base_uri": "https://localhost:8080/",
          "height": 376
        },
        "outputId": "6f012ad7-f3a9-4033-e75c-4ae1079600fc"
      },
      "cell_type": "code",
      "source": [
        "plt.scatter(df['Farenheit'], df['Dollars'])\n",
        "axes = plt.gca()\n",
        "x_vals = np.array(axes.get_xlim())\n",
        "y_vals = beta_0 + beta_1 * x_vals\n",
        "plt.plot(x_vals, y_vals, '-', color='b')\n",
        "plt.title('Ice Cream Sales Regression Line')\n",
        "plt.xlabel('Farenheit')\n",
        "plt.ylabel('Dollars')\n",
        "plt.show()"
      ],
      "execution_count": 90,
      "outputs": [
        {
          "output_type": "display_data",
          "data": {
            "image/png": "[encoded data removed]",
            "text/plain": [
              "<matplotlib.figure.Figure at 0x7fcd09ec00f0>"
            ]
          },
          "metadata": {
            "tags": []
          }
        }
      ]
    },
    {
      "metadata": {
        "id": "SBP2KZTBx2wS",
        "colab_type": "text"
      },
      "cell_type": "markdown",
      "source": [
        "## Lets try it using a fancy machine learning library: Scikit-Learn"
      ]
    },
    {
      "metadata": {
        "id": "1FxmRYxWy7Kr",
        "colab_type": "code",
        "colab": {
          "base_uri": "https://localhost:8080/",
          "height": 50
        },
        "outputId": "44043d19-bd15-40a6-b61c-2f2476585d47"
      },
      "cell_type": "code",
      "source": [
        "from sklearn.linear_model import LinearRegression\n",
        "\n",
        "regr = LinearRegression()\n",
        "\n",
        "model = regr.fit(X, Y)\n",
        "\n",
        "print(model.intercept_)\n",
        "print(model.coef_)"
      ],
      "execution_count": 77,
      "outputs": [
        {
          "output_type": "stream",
          "text": [
            "[-596.20648399]\n",
            "[[ 0.         24.68849397]]\n"
          ],
          "name": "stdout"
        }
      ]
    },
    {
      "metadata": {
        "id": "-Fkb4CUhHBRK",
        "colab_type": "text"
      },
      "cell_type": "markdown",
      "source": [
        "<center>![XKCD Linear Algebra](https://imgs.xkcd.com/comics/machine_learning.png)</center>\n",
        "\n",
        "# Simple Linear Regression\n",
        "![Simple Linear Regression](http://www.ryanleeallred.com/wp-content/uploads/2018/08/simple-regression-formula.png)\n",
        "\n",
        "# Linear Regression Diagram\n",
        "<center>![Linear Regression Diagram](http://www.ryanleeallred.com/wp-content/uploads/2018/08/linear-regression-diagram.png)</center>\n",
        "\n",
        "# Residual Values Diagram (Error or Epsilon)\n",
        "<center>![Residual Values](http://www.ryanleeallred.com/wp-content/uploads/2018/10/residuals.png)</center>"
      ]
    }
  ]
}